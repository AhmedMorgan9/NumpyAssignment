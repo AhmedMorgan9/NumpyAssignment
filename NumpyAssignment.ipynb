{
  "nbformat": 4,
  "nbformat_minor": 0,
  "metadata": {
    "colab": {
      "provenance": []
    },
    "kernelspec": {
      "name": "python3",
      "display_name": "Python 3"
    },
    "language_info": {
      "name": "python"
    }
  },
  "cells": [
    {
      "cell_type": "code",
      "execution_count": 1,
      "metadata": {
        "colab": {
          "base_uri": "https://localhost:8080/"
        },
        "id": "dHHfBlECoM9a",
        "outputId": "40b4c8be-404c-4122-85dd-c2c29ab3d02b"
      },
      "outputs": [
        {
          "output_type": "stream",
          "name": "stdout",
          "text": [
            "[[11 22 33]\n",
            " [41 52 63]]\n"
          ]
        }
      ],
      "source": [
        "import numpy as np\n",
        "\n",
        "a_2d = np.array([[10, 20, 30], [40, 50, 60]])\n",
        "a_1d = np.array([1, 2, 3])\n",
        "\n",
        "a = a_2d + a_1d\n",
        "print(a)"
      ]
    },
    {
      "cell_type": "code",
      "source": [
        "a_2d = np.array([[1, 2], [3, 4]])\n",
        "a_1d = np.array([10, 20])[:, np.newaxis]\n",
        "\n",
        "a = a_2d * a_1d\n",
        "print(a)"
      ],
      "metadata": {
        "colab": {
          "base_uri": "https://localhost:8080/"
        },
        "id": "J1H4twtGooha",
        "outputId": "84a06cc5-3b1f-4990-9323-ea74870c3ab8"
      },
      "execution_count": 3,
      "outputs": [
        {
          "output_type": "stream",
          "name": "stdout",
          "text": [
            "[[10 20]\n",
            " [60 80]]\n"
          ]
        }
      ]
    },
    {
      "cell_type": "code",
      "source": [
        "a = np.arange(1, 25).reshape(2, 3, 4)\n",
        "r = a[1]\n",
        "print(r)"
      ],
      "metadata": {
        "colab": {
          "base_uri": "https://localhost:8080/"
        },
        "id": "7Qov4HQApT-k",
        "outputId": "e12561b4-544c-4eee-a4cc-860a291cfcc8"
      },
      "execution_count": 5,
      "outputs": [
        {
          "output_type": "stream",
          "name": "stdout",
          "text": [
            "[[13 14 15 16]\n",
            " [17 18 19 20]\n",
            " [21 22 23 24]]\n"
          ]
        }
      ]
    },
    {
      "cell_type": "code",
      "source": [
        "r = a[:, :, -1]\n",
        "print(r)"
      ],
      "metadata": {
        "colab": {
          "base_uri": "https://localhost:8080/"
        },
        "id": "TUoxHtrgp_Uc",
        "outputId": "b9bc27ac-4182-4030-963a-aa3569ec23eb"
      },
      "execution_count": 6,
      "outputs": [
        {
          "output_type": "stream",
          "name": "stdout",
          "text": [
            "[[ 4  8 12]\n",
            " [16 20 24]]\n"
          ]
        }
      ]
    },
    {
      "cell_type": "code",
      "source": [
        "r = a[::-1]\n",
        "print(r)"
      ],
      "metadata": {
        "colab": {
          "base_uri": "https://localhost:8080/"
        },
        "id": "06fHovW9qT2e",
        "outputId": "25f7892e-fa96-477e-fb9f-f3c224882310"
      },
      "execution_count": 7,
      "outputs": [
        {
          "output_type": "stream",
          "name": "stdout",
          "text": [
            "[[[13 14 15 16]\n",
            "  [17 18 19 20]\n",
            "  [21 22 23 24]]\n",
            "\n",
            " [[ 1  2  3  4]\n",
            "  [ 5  6  7  8]\n",
            "  [ 9 10 11 12]]]\n"
          ]
        }
      ]
    },
    {
      "cell_type": "code",
      "source": [
        "a[a % 2 == 0] = -1\n",
        "print(a)"
      ],
      "metadata": {
        "colab": {
          "base_uri": "https://localhost:8080/"
        },
        "id": "Zfjte_uSq2Di",
        "outputId": "4214f40c-a026-4826-fb78-bf4eeaccb86a"
      },
      "execution_count": 8,
      "outputs": [
        {
          "output_type": "stream",
          "name": "stdout",
          "text": [
            "[[[ 1 -1  3 -1]\n",
            "  [ 5 -1  7 -1]\n",
            "  [ 9 -1 11 -1]]\n",
            "\n",
            " [[13 -1 15 -1]\n",
            "  [17 -1 19 -1]\n",
            "  [21 -1 23 -1]]]\n"
          ]
        }
      ]
    },
    {
      "cell_type": "code",
      "source": [
        "a1 = np.array([1, 2, 3, 4, 5, 6])\n",
        "r = np.repeat(a1, np.where(a1 % 2 != 0, 2, 1))\n",
        "print(r)"
      ],
      "metadata": {
        "colab": {
          "base_uri": "https://localhost:8080/"
        },
        "id": "rvREsZfTrDDS",
        "outputId": "f44c1267-948a-4277-be04-e7f11afb8cd5"
      },
      "execution_count": 9,
      "outputs": [
        {
          "output_type": "stream",
          "name": "stdout",
          "text": [
            "[1 1 2 3 3 4 5 5 6]\n"
          ]
        }
      ]
    },
    {
      "cell_type": "code",
      "source": [
        "a1 = np.array([1, 2, 3, 4, 5, 6])\n",
        "r = np.repeat(a1, a1)\n",
        "print(r)"
      ],
      "metadata": {
        "colab": {
          "base_uri": "https://localhost:8080/"
        },
        "id": "ZBtQHrMcrTGR",
        "outputId": "08988119-b91e-4d1e-e13e-10376bef5107"
      },
      "execution_count": 11,
      "outputs": [
        {
          "output_type": "stream",
          "name": "stdout",
          "text": [
            "[1 2 2 3 3 3 4 4 4 4 5 5 5 5 5 6 6 6 6 6 6]\n"
          ]
        }
      ]
    },
    {
      "cell_type": "code",
      "source": [
        "a2 = np.array([10, 20, 30])\n",
        "norm_a = (a2 - a2.min()) / (a2.max() - a2.min())\n",
        "print(norm_a,float)"
      ],
      "metadata": {
        "colab": {
          "base_uri": "https://localhost:8080/"
        },
        "id": "lk5V6ErfrgfH",
        "outputId": "ea537aa8-8cf8-482d-9c72-e396219bebb3"
      },
      "execution_count": 15,
      "outputs": [
        {
          "output_type": "stream",
          "name": "stdout",
          "text": [
            "[0.  0.5 1. ] <class 'float'>\n"
          ]
        }
      ]
    },
    {
      "cell_type": "code",
      "source": [
        "i = np.arange(3).reshape(3, 1)\n",
        "j = np.arange(3)\n",
        "r = i * j\n",
        "print(r)"
      ],
      "metadata": {
        "colab": {
          "base_uri": "https://localhost:8080/"
        },
        "id": "B9Y9sqeQr9d4",
        "outputId": "8e746d33-454c-44f4-85e9-684cae08af12"
      },
      "execution_count": 17,
      "outputs": [
        {
          "output_type": "stream",
          "name": "stdout",
          "text": [
            "[[0 0 0]\n",
            " [0 1 2]\n",
            " [0 2 4]]\n"
          ]
        }
      ]
    },
    {
      "cell_type": "code",
      "source": [],
      "metadata": {
        "id": "JUEcS8rysks0"
      },
      "execution_count": null,
      "outputs": []
    }
  ]
}